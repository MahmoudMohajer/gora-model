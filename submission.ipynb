{
 "cells": [
  {
   "cell_type": "markdown",
   "metadata": {},
   "source": [
    "# Submission Notebook"
   ]
  },
  {
   "cell_type": "markdown",
   "metadata": {},
   "source": [
    "## Importing and Loading Evaluation Dataset"
   ]
  },
  {
   "cell_type": "code",
   "execution_count": 1,
   "metadata": {},
   "outputs": [],
   "source": [
    "import certifi\n",
    "import os\n",
    "os.environ['SSL-CERT_FILE'] = certifi.where()\n",
    "from giza_datasets import DatasetsLoader\n",
    "\n",
    "import pandas as pd\n",
    "import matplotlib.pyplot as plt\n",
    "import numpy as np\n",
    "import seaborn as sns \n",
    "from sklearn.linear_model import LinearRegression \n",
    "\n",
    "pd.set_option('display.max_columns', 200)"
   ]
  },
  {
   "cell_type": "code",
   "execution_count": 2,
   "metadata": {},
   "outputs": [
    {
     "name": "stdout",
     "output_type": "stream",
     "text": [
      "Dataset read from cache.\n",
      "Loading dataset gora-competition-evaluation from cache.\n"
     ]
    }
   ],
   "source": [
    "loader = DatasetsLoader()\n",
    "df = loader.load(\"gora-competition-evaluation\").to_pandas()\n"
   ]
  },
  {
   "cell_type": "code",
   "execution_count": 4,
   "metadata": {},
   "outputs": [],
   "source": [
    "features = ['total_borrow', 'count_borrow', 'avg_borrow_amount',\n",
    "       'std_borrow_amount', \n",
    "       'borrow_amount_cv', 'total_repay', 'count_repay', 'avg_repay_amount',\n",
    "       'std_repay_amount', 'repay_amount_cv', 'total_deposit', 'count_deposit',\n",
    "       'avg_deposit_amount', 'std_deposit_amount', 'deposit_amount_cv',\n",
    "       'total_redeem', 'count_redeem', 'avg_redeem_amount',\n",
    "       'std_redeem_amount', 'redeem_amount_cv',\n",
    "       'days_since_first_borrow', 'net_outstanding',\n",
    "       'int_paid', 'net_deposits', 'count_repays_to_count_borrows',\n",
    "       'avg_repay_to_avg_borrow', 'net_outstanding_to_total_borrowed',\n",
    "       'net_outstanding_to_total_repaid', 'count_redeems_to_count_deposits',\n",
    "       'total_redeemed_to_total_deposits', 'avg_redeem_to_avg_deposit',\n",
    "       'net_deposits_to_total_deposits', 'net_deposits_to_total_redeemed',\n",
    "       'dex_total_sum_added',\n",
    "       'dex_total_sum_removed', 'dex_total_sum_swapped']"
   ]
  },
  {
   "cell_type": "code",
   "execution_count": 5,
   "metadata": {},
   "outputs": [],
   "source": [
    "import joblib \n",
    "scaler = joblib.load('scaler.pkl')"
   ]
  },
  {
   "cell_type": "markdown",
   "metadata": {},
   "source": [
    "## Predicting On Evaluation set"
   ]
  },
  {
   "cell_type": "code",
   "execution_count": 7,
   "metadata": {},
   "outputs": [],
   "source": [
    "import torch\n",
    "import torch.nn as nn\n",
    "import torch.optim as optim\n",
    "from torch.utils.data import TensorDataset, DataLoader\n",
    "from sklearn.preprocessing import StandardScaler\n",
    "\n",
    "\n",
    "device = torch.device(\"cuda:0\" if torch.cuda.is_available() else \"cpu\")\n",
    "\n",
    "X_test = df[features].values\n",
    "X_test_scaled = scaler.transform(X_test)\n",
    "class CustomDataset(TensorDataset):\n",
    "    def __init__(self, X):\n",
    "        self.X = torch.tensor(X, dtype=torch.float)\n",
    "\n",
    "    def __len__(self):\n",
    "        return len(self.X)\n",
    "\n",
    "    def __getitem__(self, idx):\n",
    "        return self.X[idx]\n",
    "\n",
    "batch_size = 256\n",
    "\n",
    "test_dataset = CustomDataset(X_test_scaled)\n",
    "test_data_loader = DataLoader(test_dataset, batch_size=batch_size, shuffle=False)\n",
    "\n",
    "class RegressionModel(nn.Module):\n",
    "    def __init__(self):\n",
    "        super(RegressionModel, self).__init__()\n",
    "        self.fc1 = nn.Linear(X.shape[1], 128)\n",
    "        self.fc2 = nn.Linear(128, 64)\n",
    "        self.fc3 = nn.Linear(64, 1) \n",
    "\n",
    "    def forward(self, x):\n",
    "        x = torch.relu(self.fc1(x))\n",
    "        x = torch.relu(self.fc2(x))\n",
    "        x = self.fc3(x)\n",
    "        return x\n",
    "\n",
    "\n",
    "model = torch.load('model.pth', map_location=device)\n",
    "model.to(device)\n",
    "\n",
    "model.eval()\n",
    "predictions = []\n",
    "with torch.no_grad():\n",
    "    for inputs in test_data_loader:\n",
    "        inputs = inputs.to(device)\n",
    "        outputs = model(inputs)\n",
    "        predictions.extend(outputs.cpu().numpy())\n"
   ]
  },
  {
   "cell_type": "markdown",
   "metadata": {},
   "source": [
    "## Saving Predictions"
   ]
  },
  {
   "cell_type": "code",
   "execution_count": 10,
   "metadata": {},
   "outputs": [],
   "source": [
    "import pandas as pd \n",
    "predictions = np.array(predictions).flatten().clip(0, np.inf)\n",
    "results = pd.Series(predictions)\n",
    "df[\"total_liquidation_to_total_borrow\"] = results\n",
    "\n",
    "results.to_csv(\"submission.csv\")"
   ]
  }
 ],
 "metadata": {
  "kernelspec": {
   "display_name": "gora",
   "language": "python",
   "name": "python3"
  },
  "language_info": {
   "codemirror_mode": {
    "name": "ipython",
    "version": 3
   },
   "file_extension": ".py",
   "mimetype": "text/x-python",
   "name": "python",
   "nbconvert_exporter": "python",
   "pygments_lexer": "ipython3",
   "version": "3.11.5"
  }
 },
 "nbformat": 4,
 "nbformat_minor": 2
}
